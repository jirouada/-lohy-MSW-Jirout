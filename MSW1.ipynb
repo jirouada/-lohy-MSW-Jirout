{
 "cells": [
  {
   "cell_type": "code",
   "execution_count": null,
   "metadata": {},
   "outputs": [],
   "source": [
    "%%timeit\n",
    "matice = [[1,2,3],[4,5,6],[7,8,9]]\n",
    "\n",
    "def det3x3(m):\n",
    "    if len(m) != 3 or len(m[0]) != 3 or len(m[1]) != 3 or len(m[2]) !=3:\n",
    "        raise Exception(\"Matice nemá správné rozměry\")\n",
    "    else:\n",
    "        vysledek = 0\n",
    "        vysledek += ((m[0][0]*m[1][1]*m[2][2])+(m[0][1]*m[1][2]*m[2][0])+(m[0][2]*m[1][0]*m[2][1]))\n",
    "        vysledek -= ((m[0][2]*m[1][1]*m[2][0])+(m[0][0]*m[1][2]*m[2][1])+(m[0][1]*m[1][0]*m[2][2]))\n",
    "        return vysledek\n",
    "\n",
    "det3x3(matice)"
   ]
  },
  {
   "cell_type": "code",
   "execution_count": null,
   "metadata": {},
   "outputs": [],
   "source": [
    "%%timeit\n",
    "\n",
    "import numpy as np\n",
    "matice = np.array([[1,2,3],[4,5,6],[7,8,9]]) \n",
    "np.linalg.det(matice)"
   ]
  },
  {
   "cell_type": "code",
   "execution_count": null,
   "metadata": {},
   "outputs": [],
   "source": [
    "%%timeit\n",
    "\n",
    "v1 = [1,4]\n",
    "v2 = [8,4]\n",
    "\n",
    "def ssoucin(s1,s2):\n",
    "    if len(s1)==len(s2):\n",
    "        vysledek = 0\n",
    "        for i in range(len(s1)):\n",
    "            vysledek += s1[i] * s2[i]\n",
    "        return vysledek\n",
    "    else:\n",
    "        raise Exception(\"Není stejný rozsah vektoru\")\n",
    "    \n",
    "\n",
    "ssoucin(v1,v2)"
   ]
  },
  {
   "cell_type": "code",
   "execution_count": null,
   "metadata": {},
   "outputs": [],
   "source": [
    "%%timeit\n",
    "\n",
    "import numpy\n",
    "\n",
    "v1 = numpy.array([1,4])\n",
    "v2 = numpy.array([8,4])\n",
    "\n",
    "numpy.dot(v1,v2)"
   ]
  },
  {
   "cell_type": "code",
   "execution_count": null,
   "metadata": {},
   "outputs": [],
   "source": [
    "v1 = list(range(1,50001))\n",
    "v2 = list(range(2,50002))\n",
    "\n",
    "def ssoucin(s1,s2):\n",
    "    if len(s1)==len(s2):\n",
    "        vysledek = 0\n",
    "        for i in range(len(s1)):\n",
    "            vysledek += s1[i] * s2[i]\n",
    "        return vysledek\n",
    "    else:\n",
    "        raise Exception(\"Není stejný rozsah vektoru\")\n",
    "    \n",
    "\n",
    "%timeit ssoucin(v1,v2)"
   ]
  },
  {
   "cell_type": "code",
   "execution_count": null,
   "metadata": {},
   "outputs": [],
   "source": [
    "import numpy\n",
    "\n",
    "v1 = numpy.array(range(1,50001))\n",
    "v2 = numpy.array(range(2,50002))\n",
    "\n",
    "%timeit numpy.dot(v1,v2)"
   ]
  },
  {
   "cell_type": "code",
   "execution_count": null,
   "metadata": {},
   "outputs": [],
   "source": [
    "def derivace(funkce, bod):\n",
    "    dx=1e-6\n",
    "    return (funkce(bod + dx) - funkce(bod - dx)) / (2 * dx)\n",
    "\n",
    "def f(x):\n",
    "    return x**2\n",
    "\n",
    "%timeit derivace(f,2)"
   ]
  },
  {
   "cell_type": "code",
   "execution_count": null,
   "metadata": {},
   "outputs": [],
   "source": [
    "import scipy.misc\n",
    "\n",
    "def f(x): \n",
    "    return x**2\n",
    "\n",
    "%timeit scipy.misc.derivative(f,2)"
   ]
  },
  {
   "cell_type": "code",
   "execution_count": null,
   "metadata": {},
   "outputs": [],
   "source": [
    "def uintegral(f,a,b,s=100):\n",
    "    dsloupec = (b - a) / s\n",
    "    soucets = 0\n",
    "\n",
    "    for i in range(s):\n",
    "        x = a + i * dsloupec  # Left endpoint of each subinterval\n",
    "        soucets += f(x) * dsloupec  # Function value at left endpoint * width\n",
    "\n",
    "    return soucets\n",
    "\n",
    "def f(x):\n",
    "    return x**2\n",
    "\n",
    "%timeit uintegral(f,0,20)"
   ]
  },
  {
   "cell_type": "code",
   "execution_count": null,
   "metadata": {},
   "outputs": [],
   "source": [
    "import scipy.integrate\n",
    "\n",
    "def f(x):\n",
    "    return x**2\n",
    "\n",
    "%timeit scipy.integrate.quad(f,0,20)"
   ]
  },
  {
   "cell_type": "code",
   "execution_count": null,
   "metadata": {},
   "outputs": [],
   "source": [
    "def nmatic(m1,m2):\n",
    "    if len(m1[0]) != len(m2):\n",
    "        raise Exception(\"Matice nemají správný rozměr\")\n",
    "    else:\n",
    "        vmatice = []\n",
    "        for i in range(len(m1)):\n",
    "            radek = []\n",
    "            for j in range(len(m2[0])):\n",
    "                vysledek = 0\n",
    "                for k in range(len(m2)):\n",
    "                    vysledek += m1[i][k] * m2[k][j]\n",
    "                radek.append(vysledek)\n",
    "            vmatice.append(radek)\n",
    "        return vmatice\n",
    "\n",
    "matice1 = [[1,2,3],[4,5,6],[7,8,9]]\n",
    "matice2 = [[1,2],[3,4],[5,6]]\n",
    "\n",
    "%timeit print(nmatic(matice1,matice2))"
   ]
  },
  {
   "cell_type": "code",
   "execution_count": null,
   "metadata": {},
   "outputs": [],
   "source": [
    "import numpy as np\n",
    "\n",
    "matice1 = np.array([[1,2,3],[4,5,6],[7,8,9]])\n",
    "matice2 = np.array([[1,2],[3,4],[5,6]])\n",
    "\n",
    "%timeit np.dot(matice1, matice2)"
   ]
  }
 ],
 "metadata": {
  "kernelspec": {
   "display_name": "base",
   "language": "python",
   "name": "python3"
  },
  "language_info": {
   "name": "python",
   "version": "3.11.5"
  }
 },
 "nbformat": 4,
 "nbformat_minor": 2
}
